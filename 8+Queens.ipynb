{
 "cells": [
  {
   "cell_type": "markdown",
   "metadata": {},
   "source": [
    "# 8 Queens"
   ]
  },
  {
   "cell_type": "code",
   "execution_count": 210,
   "metadata": {},
   "outputs": [],
   "source": [
    "# Input is an N X N empty board.\n",
    "\n",
    "N = 9\n",
    "board = [[\" . \" for x in range (N)] for y in range (N)]"
   ]
  },
  {
   "cell_type": "code",
   "execution_count": 211,
   "metadata": {},
   "outputs": [
    {
     "name": "stdout",
     "output_type": "stream",
     "text": [
      " .   .   .   .   .   .   .   .   . \n",
      " .   .   .   .   .   .   .   .   . \n",
      " .   .   .   .   .   .   .   .   . \n",
      " .   .   .   .   .   .   .   .   . \n",
      " .   .   .   .   .   .   .   .   . \n",
      " .   .   .   .   .   .   .   .   . \n",
      " .   .   .   .   .   .   .   .   . \n",
      " .   .   .   .   .   .   .   .   . \n",
      " .   .   .   .   .   .   .   .   . \n"
     ]
    }
   ],
   "source": [
    "# Function to nicely display the N queens board\n",
    "\n",
    "def display ():\n",
    "    for y in range(N):\n",
    "        print (\" \".join([board[x][y] for x in range (N)]))\n",
    "display ()"
   ]
  },
  {
   "cell_type": "code",
   "execution_count": 212,
   "metadata": {},
   "outputs": [],
   "source": [
    "# Function to place a queen on a given point\n",
    "\n",
    "def place (x, y):\n",
    "        \n",
    "    # Check the row left side\n",
    "    for i in range(y):\n",
    "        if (board[x][i] == \" Q \"):\n",
    "            return False\n",
    "   \n",
    "    # Check the first diagonal for x and y, going up\n",
    "    i = x-1\n",
    "    j = y-1\n",
    "    while i >= 0 and j >= 0:        \n",
    "        if (board[i][j] == \" Q \"):\n",
    "            return False\n",
    "        i -= 1\n",
    "        j -= 1\n",
    "    \n",
    "    # Check the second diagonal for x and y, going down\n",
    "    i = x+1\n",
    "    j = y-1\n",
    "    while j >= 0 and i < N:\n",
    "        if (board[i][j] == \" Q \"):\n",
    "            return False\n",
    "        j -= 1\n",
    "        i += 1\n",
    "    \n",
    "    return True    "
   ]
  },
  {
   "cell_type": "code",
   "execution_count": 213,
   "metadata": {},
   "outputs": [
    {
     "name": "stdout",
     "output_type": "stream",
     "text": [
      "Solution for the N-Queens Puzzle for given N is possible.\n",
      " Q   .   .   .   .   .   .   .   . \n",
      " .   .   Q   .   .   .   .   .   . \n",
      " .   .   .   .   .   Q   .   .   . \n",
      " .   .   .   .   .   .   .   Q   . \n",
      " .   Q   .   .   .   .   .   .   . \n",
      " .   .   .   Q   .   .   .   .   . \n",
      " .   .   .   .   .   .   .   .   Q \n",
      " .   .   .   .   .   .   Q   .   . \n",
      " .   .   .   .   Q   .   .   .   . \n"
     ]
    }
   ],
   "source": [
    "# function to recursively place queens one by one\n",
    "def recurse (col):\n",
    "    if col >= N:\n",
    "        return True\n",
    "    for i in range (N):\n",
    "        if place (i, col) == True:\n",
    "            board[i][col] = \" Q \"\n",
    "            if recurse (col + 1) == True:\n",
    "                return True            \n",
    "            board[i][col] = \" . \"\n",
    "    return False\n",
    "\n",
    "if (recurse (0)):\n",
    "    print (\"Solution for the N-Queens Puzzle for given N is possible.\")\n",
    "    display ()\n",
    "else:\n",
    "    print (\"Solution for the N-Queens Puzzle for given N is not possible.\")"
   ]
  },
  {
   "cell_type": "code",
   "execution_count": null,
   "metadata": {
    "collapsed": true
   },
   "outputs": [],
   "source": []
  }
 ],
 "metadata": {
  "kernelspec": {
   "display_name": "Python 3",
   "language": "python",
   "name": "python3"
  },
  "language_info": {
   "codemirror_mode": {
    "name": "ipython",
    "version": 3
   },
   "file_extension": ".py",
   "mimetype": "text/x-python",
   "name": "python",
   "nbconvert_exporter": "python",
   "pygments_lexer": "ipython3",
   "version": "3.6.2"
  }
 },
 "nbformat": 4,
 "nbformat_minor": 2
}
